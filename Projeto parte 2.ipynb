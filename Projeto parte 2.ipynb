{
 "cells": [
  {
   "cell_type": "markdown",
   "id": "helpful-quantum",
   "metadata": {},
   "source": [
    "<h1>Projeto ICD</h1>\n",
    "\n",
    "Perguntas:\n",
    "\n",
    "    A duração do filme influencia na sua popularidade?\n",
    "     > comparar a média de avaliação total com a media dos seguintes intervalos:\n",
    "        > curto: 0 a 1h30m\n",
    "        > normal: 1h30m a 2h30\n",
    "        > longo: 2h30m + \n",
    "\n",
    "    O gênero influencia o quão longo o filme vai ser?\n",
    "     > gráficos correlação genre e runtime\n",
    "\n",
    "    A Netflix é mais valiosa quando o seu catálogo está bom?\n",
    "     > correlação média avaliações do daily top ten com o preço da ação\n",
    "\n",
    " \n",
    "Dataframes:\n",
    "\n",
    "     Netflix TV Shows and Movies\n",
    "     > https://www.kaggle.com/datasets/victorsoeiro/netflix-tv-shows-and-movies?select=titles.csv\n",
    "     \n",
    "     Netflix Stock Price (All Time)\n",
    "     > https://www.kaggle.com/datasets/akpmpr/updated-netflix-stock-price-all-time\n",
    "     \n",
    "     Netflix Daily Top 10\n",
    "     > https://www.kaggle.com/datasets/prasertk/netflix-daily-top-10-in-us   \n",
    " "
   ]
  },
  {
   "cell_type": "code",
   "execution_count": 85,
   "id": "ancient-investor",
   "metadata": {},
   "outputs": [],
   "source": [
    "import pandas as pd\n",
    "import numpy as np\n",
    "import seaborn as sns"
   ]
  },
  {
   "cell_type": "code",
   "execution_count": 93,
   "id": "contemporary-colon",
   "metadata": {},
   "outputs": [],
   "source": [
    "#datasets:\n",
    "\n",
    "catalog_df = pd.read_csv(\"catalog.csv\")\n",
    "movies_df = catalog_df.loc[catalog_df.type == \"MOVIE\"]\n",
    "\n",
    "daily_top10_df = pd.read_csv(\"daily_top_10.csv\")\n",
    "stocks_df = pd.read_csv(\"stocks.csv\")"
   ]
  },
  {
   "cell_type": "markdown",
   "id": "psychological-uncle",
   "metadata": {},
   "source": [
    "<h2>Medidas de centralidade e dispersão para cada variável</h2>"
   ]
  },
  {
   "cell_type": "code",
   "execution_count": 110,
   "id": "minimal-aurora",
   "metadata": {},
   "outputs": [],
   "source": [
    "def centralidade_e_dispersao(dataframe_col):\n",
    "    col = np.array(dataframe_col)\n",
    "    print (\"\\n\",\"Media: \", np.mean(col))\n",
    "    print (\"\\n\",\"Desvio padrao: \", np.sqrt(np.var(col)))\n",
    "    \n",
    "    #boxplot\n",
    "    sns.boxplot(dataframe_col)\n",
    "    "
   ]
  },
  {
   "cell_type": "markdown",
   "id": "atmospheric-zoning",
   "metadata": {},
   "source": [
    "<h3>Runtime</h3>\n",
    "Tempo de duração do filme em minutos"
   ]
  },
  {
   "cell_type": "code",
   "execution_count": 111,
   "id": "aware-motivation",
   "metadata": {},
   "outputs": [
    {
     "name": "stdout",
     "output_type": "stream",
     "text": [
      "\n",
      " Media:  101.06620005832605\n",
      "\n",
      " Desvio padrao:  27.8604298224932\n"
     ]
    },
    {
     "data": {
      "image/png": "[encoded data removed]",
      "text/plain": [
       "<Figure size 432x288 with 1 Axes>"
      ]
     },
     "metadata": {
      "needs_background": "light"
     },
     "output_type": "display_data"
    }
   ],
   "source": [
    "centralidade_e_dispersao(movies_df.runtime)"
   ]
  },
  {
   "cell_type": "markdown",
   "id": "operational-replacement",
   "metadata": {},
   "source": [
    "<h3>Ratings</h3>\n",
    "Média de avaliações dos usuários"
   ]
  },
  {
   "cell_type": "code",
   "execution_count": 112,
   "id": "steady-gazette",
   "metadata": {},
   "outputs": [
    {
     "name": "stdout",
     "output_type": "stream",
     "text": [
      "\n",
      " Media:  6.246748323126275\n",
      "\n",
      " Desvio padrao:  1.1273213300134064\n"
     ]
    },
    {
     "data": {
      "image/png": "[encoded data removed]",
      "text/plain": [
       "<Figure size 432x288 with 1 Axes>"
      ]
     },
     "metadata": {
      "needs_background": "light"
     },
     "output_type": "display_data"
    }
   ],
   "source": [
    "centralidade_e_dispersao(movies_df.imdb_score)"
   ]
  },
  {
   "cell_type": "markdown",
   "id": "willing-newsletter",
   "metadata": {},
   "source": [
    "<h3>Genres</h3>\n",
    "Genero do filme"
   ]
  },
  {
   "cell_type": "code",
   "execution_count": 118,
   "id": "seeing-twins",
   "metadata": {},
   "outputs": [
    {
     "name": "stdout",
     "output_type": "stream",
     "text": [
      "Moda:  0    ['comedy']\n",
      "dtype: object\n"
     ]
    }
   ],
   "source": [
    "print(\"Moda: \", movies_df.genres.mode())\n"
   ]
  },
  {
   "cell_type": "markdown",
   "id": "radio-machine",
   "metadata": {},
   "source": [
    "<h3>Viewership Score</h3>\n",
    "Índice de audiência"
   ]
  },
  {
   "cell_type": "code",
   "execution_count": 114,
   "id": "narrative-berry",
   "metadata": {},
   "outputs": [
    {
     "name": "stdout",
     "output_type": "stream",
     "text": [
      "\n",
      " Media:  122.79014084507043\n",
      "\n",
      " Desvio padrao:  213.84658095112766\n"
     ]
    },
    {
     "data": {
      "image/png": "[encoded data removed]",
      "text/plain": [
       "<Figure size 432x288 with 1 Axes>"
      ]
     },
     "metadata": {
      "needs_background": "light"
     },
     "output_type": "display_data"
    }
   ],
   "source": [
    "centralidade_e_dispersao(daily_top10_df[\"Viewership Score\"])"
   ]
  },
  {
   "cell_type": "markdown",
   "id": "closing-certification",
   "metadata": {},
   "source": [
    "<h3>Stock Value</h3>\n",
    "Preço da ação ajustado"
   ]
  },
  {
   "cell_type": "code",
   "execution_count": 115,
   "id": "architectural-prisoner",
   "metadata": {},
   "outputs": [
    {
     "name": "stdout",
     "output_type": "stream",
     "text": [
      "\n",
      " Media:  105.43414864158366\n",
      "\n",
      " Desvio padrao:  157.05709691749655\n"
     ]
    },
    {
     "data": {
      "image/png": "[encoded data removed]",
      "text/plain": [
       "<Figure size 432x288 with 1 Axes>"
      ]
     },
     "metadata": {
      "needs_background": "light"
     },
     "output_type": "display_data"
    }
   ],
   "source": [
    "centralidade_e_dispersao(stocks_df[\"Adj Close\"])"
   ]
  }
 ],
 "metadata": {
  "kernelspec": {
   "display_name": "Python 3",
   "language": "python",
   "name": "python3"
  },
  "language_info": {
   "codemirror_mode": {
    "name": "ipython",
    "version": 3
   },
   "file_extension": ".py",
   "mimetype": "text/x-python",
   "name": "python",
   "nbconvert_exporter": "python",
   "pygments_lexer": "ipython3",
   "version": "3.8.9"
  }
 },
 "nbformat": 4,
 "nbformat_minor": 5
}
